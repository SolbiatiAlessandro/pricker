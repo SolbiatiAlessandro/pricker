{
 "cells": [
  {
   "cell_type": "markdown",
   "metadata": {},
   "source": [
    "<h1>| pricker-v.0.1.36 |</h1>\n",
    "<h3>Price validation tool for bloomberg-request-software format prices</h3>"
   ]
  },
  {
   "cell_type": "code",
   "execution_count": 1,
   "metadata": {},
   "outputs": [],
   "source": [
    "###pricker-v.0.1.3 author A.SOLBIATI 07/07/17###\n",
    "import os\n",
    "import pandas\n",
    "import datetime\n",
    "from pandas_datareader import data as web\n",
    "from bs4 import BeautifulSoup\n",
    "import Tkinter\n",
    "import logging\n",
    "logging.basicConfig(filename='pricker-errors.log', level=logging.ERROR)\n"
   ]
  },
  {
   "cell_type": "code",
   "execution_count": null,
   "metadata": {},
   "outputs": [],
   "source": []
  },
  {
   "cell_type": "code",
   "execution_count": 2,
   "metadata": {
    "collapsed": true
   },
   "outputs": [],
   "source": [
    "def read_file(FNAME, FIXED_LINES):\n",
    "    'read input file skipping the first FIXED_LINES lines'\n",
    "    with open(FNAME) as f:\n",
    "        lines = f.readlines()\n",
    "    lines = [x.strip() for x in lines] \n",
    "    lines = lines[FIXED_LINES:]\n",
    "    \n",
    "    return lines"
   ]
  },
  {
   "cell_type": "code",
   "execution_count": 3,
   "metadata": {
    "collapsed": true
   },
   "outputs": [],
   "source": [
    "CONFIG = os.path.abspath(\"config.txt\")\n",
    "config_lines = read_file((CONFIG),10)\n",
    "\n",
    "#FNAME: path for input file (bloomberg-request-software format)\n",
    "READFROMCONFIG = int(config_lines[0])\n",
    "if (READFROMCONFIG==1):\n",
    "    #FNAME = config_lines[1][config_lines[0].index(' ')+1:]\n",
    "    FNAME = config_lines[1]\n",
    "    FIXED_LINES = config_lines[2]\n",
    "    FILENAME_INPUT= config_lines[3]\n",
    "    FILENAME_OUTPUT= config_lines[4]\n",
    "    MARKET = config_lines[5]\n",
    "    \n",
    "else:\n",
    "    FNAME = os.path.abspath(\"Prezzi\"+datetime.datetime.today().strftime('%d%m%y')+\".out\"+datetime.datetime.today().strftime('%Y%m%d'))\n",
    "    #FIXED_LINES:  number of fixed lines to be skipped in input file\n",
    "    FIXED_LINES = 30\n",
    "    #MARKET: market to run the pricker on {'EQUITITES US', 'EQUITIES IM'}\n",
    "    MARKET = \"EQUITIES US\"\n",
    "    FILENAME_INPUT= os.path.abspath(\"www/template.html\")\n",
    "    FILENAME_OUTPUT= os.path.abspath(\"www/report.html\")\n",
    "\n"
   ]
  },
  {
   "cell_type": "code",
   "execution_count": 4,
   "metadata": {},
   "outputs": [
    {
     "data": {
      "text/plain": [
       "('/Users/alex/Desktop/Coding/BERT/pricker/config.txt',\n",
       " 0,\n",
       " '/Users/alex/Desktop/Coding/BERT/pricker/Prezzi100817.out20170810',\n",
       " 30,\n",
       " '/Users/alex/Desktop/Coding/BERT/pricker/www/template.html',\n",
       " '/Users/alex/Desktop/Coding/BERT/pricker/www/report.html',\n",
       " 'EQUITIES US')"
      ]
     },
     "execution_count": 4,
     "metadata": {},
     "output_type": "execute_result"
    }
   ],
   "source": [
    "CONFIG, READFROMCONFIG, FNAME, FIXED_LINES, FILENAME_INPUT, FILENAME_OUTPUT, MARKET"
   ]
  },
  {
   "cell_type": "code",
   "execution_count": 5,
   "metadata": {
    "collapsed": true
   },
   "outputs": [],
   "source": [
    "def checkfor(line, strs):\n",
    "    #return 1 if there are all strs[i] in line\n",
    "    _bool = True\n",
    "    for _str in strs:\n",
    "        if(line.find(_str)==-1):\n",
    "            _bool = False\n",
    "    return _bool"
   ]
  },
  {
   "cell_type": "markdown",
   "metadata": {},
   "source": [
    "<h3><u>Equities</u> formatting:</h3>"
   ]
  },
  {
   "cell_type": "code",
   "execution_count": 6,
   "metadata": {
    "collapsed": true
   },
   "outputs": [],
   "source": [
    "def equity_market(line):\n",
    "    return line[line.index(' ')+1:line.index(' ')+3]\n",
    "\n",
    "def equity_name(line):\n",
    "    return line[:line.index(' ')]\n",
    "\n",
    "def equity_vals(line):\n",
    "    vec = []\n",
    "    for i in range(4,12):\n",
    "        vec.append(line.split('|')[i])\n",
    "    return vec\n",
    "\n",
    "class Equity():\n",
    "    \n",
    "    def __init__(self, line):\n",
    "        self.market=equity_market(line)\n",
    "        self.name=equity_name(line)\n",
    "        self.vals=equity_vals(line)\n",
    "        if(self.vals[5]!='N.A.' and self.vals[5]!=''):\n",
    "            self.close=float(self.vals[5])\n",
    "        else:\n",
    "            self.close=0\n",
    "        self.curr=equity_vals(line)[7]\n",
    "    \n",
    "    def summary(self):\n",
    "        print '\\nEquity summary'\n",
    "        print '- Name: ',self.name,' Market: ',self.market,' Close: ',self.close,' Curr: ',self.curr\n",
    "        \n",
    "    \n"
   ]
  },
  {
   "cell_type": "code",
   "execution_count": 7,
   "metadata": {
    "collapsed": true
   },
   "outputs": [],
   "source": [
    "def parse_equities(FNAME, FIXED_LINES):\n",
    "\t#parse equities from the input file populating the Equity object arrays\n",
    "    \n",
    "    lines = read_file(FNAME, FIXED_LINES)\n",
    "    \n",
    "    equities_US = []\n",
    "    equities_IM = []\n",
    "    \n",
    "    for line in lines:\n",
    "        if(checkfor(line,'Equity') and len(line.split(\" \"))<4):\n",
    "            try:\n",
    "                equity = Equity(line)\n",
    "                if(equity.market=='US'):\n",
    "                    equities_US.append(equity)\n",
    "                if(equity.market=='IM'):\n",
    "                    equities_IM.append(equity)\n",
    "            except:\n",
    "                logging.exception(datetime.datetime.now())\n",
    "                \n",
    "    \n",
    "    return equities_US, equities_IM"
   ]
  },
  {
   "cell_type": "code",
   "execution_count": null,
   "metadata": {
    "collapsed": true
   },
   "outputs": [],
   "source": []
  },
  {
   "cell_type": "code",
   "execution_count": null,
   "metadata": {
    "collapsed": true
   },
   "outputs": [],
   "source": []
  },
  {
   "cell_type": "code",
   "execution_count": 8,
   "metadata": {
    "collapsed": true
   },
   "outputs": [],
   "source": [
    "def pricker_equities(equities, market=\"US\", source=\"google\"):\n",
    "    #cross-validate the input prices with source prices using the Equity object arrays\n",
    "    \n",
    "    anomalies= []\n",
    "    comparisons=0\n",
    "    dataset=len(equities)\n",
    "    \n",
    "    #loop in the equities objects\n",
    "    for equity in equities:\n",
    "        \n",
    "        try:\n",
    "            #compare1: dowload data from source\n",
    "            compare1 = float(web.DataReader(equity.name, source, datetime.datetime.today() - datetime.timedelta(days=1),datetime.datetime.today()).Close)\n",
    "            \n",
    "            #compare2: from the input file\n",
    "            compare2 = equity.close\n",
    "            \n",
    "            if(compare1!=compare2):\n",
    "                anomaly = equity.name,equity.close,compare1\n",
    "                anomalies.append(anomaly)\n",
    "                print len(anomalies),'FOUND ANOMALY (name,bloomberg,source)',anomaly\n",
    "                \n",
    "            else:\n",
    "                print \" | dowloaded [\",compare1,\"] from \",source,\", regular [\",compare2,\"] on: \",equity.name\n",
    "           \n",
    "            comparisons=comparisons+1\n",
    "            \n",
    "        except Exception as e: print(e)\n",
    "            \n",
    "    print '\\nANOMALIES:\\n'\n",
    "    for anomaly in anomalies:\n",
    "        print anomaly\n",
    "    print 'COMPARISONS:', comparisons,' (', dataset-comparisons, ' not found from source )'\n",
    "    \n",
    "    return anomalies, comparisons, dataset\n"
   ]
  },
  {
   "cell_type": "code",
   "execution_count": 9,
   "metadata": {
    "collapsed": true
   },
   "outputs": [],
   "source": [
    "def update_html(anomalies, comparisons, dataset, FILENAME_INPUT=os.path.abspath(\"template.html\"), FILENAME_OUTPUT=os.path.abspath(\"report.html\")):\n",
    "    \n",
    "    with open(FILENAME_INPUT) as fp:\n",
    "        soup = BeautifulSoup(fp, \"html5lib\")\n",
    "    \n",
    "    for anomaly in anomalies:\n",
    "        new_tag = soup.new_tag('li')\n",
    "        \n",
    "        new_tag = soup.new_tag('li')\n",
    "\n",
    "        a = soup.new_tag('a')\n",
    "        a_content = anomaly[0]+' '\n",
    "        a.string=unicode(a_content)\n",
    "        a['class']=\"small_a\"\n",
    "\n",
    "        p = soup.new_tag('p')\n",
    "        p_content = 'Bloomberg:'+str(anomaly[1])+' Google: '+str(anomaly[2])\n",
    "        p['style']=\"font-size:9px\"\n",
    "        p.string=unicode(p_content)\n",
    "        a.insert(1,p)\n",
    "\n",
    "        new_tag.append(a)\n",
    "        \n",
    "        soup.body.find('ul').append(new_tag)\n",
    "    \n",
    "    soup.find_all('a')[0].string = str(datetime.datetime.today())[:16]+\" CHECK completed\"\n",
    "    \n",
    "    soup.find_all('span')[0].string = \"Regular: \"+str(comparisons)\n",
    "    soup.find_all('span')[1].string = \"Anomalies: \"+str(len(anomalies))\n",
    "    soup.find_all('a')[1].string = \"Instruments found from the source \"+str(comparisons)+\"/\"+str(dataset)\n",
    "    \n",
    "    with open(FILENAME_OUTPUT, \"wb\") as f_output:\n",
    "        f_output.write(soup.prettify(\"utf-8\"))  "
   ]
  },
  {
   "cell_type": "markdown",
   "metadata": {},
   "source": [
    "<h3>Procedures</h3>"
   ]
  },
  {
   "cell_type": "code",
   "execution_count": 10,
   "metadata": {
    "scrolled": true
   },
   "outputs": [
    {
     "name": "stdout",
     "output_type": "stream",
     "text": [
      "1 FOUND ANOMALY (name,bloomberg,source) ('BTI', 0, 64.48)\n",
      "2 FOUND ANOMALY (name,bloomberg,source) ('DRYS', 1.23, 1.77)\n",
      "3 FOUND ANOMALY (name,bloomberg,source) ('NEM', 36.59, 36.1)\n",
      "4 FOUND ANOMALY (name,bloomberg,source) ('CLR', 32.19, 34.31)\n",
      "5 FOUND ANOMALY (name,bloomberg,source) ('AZN', 30.34, 29.47)\n",
      "6 FOUND ANOMALY (name,bloomberg,source) ('GOLD', 95.1, 95.59)\n",
      "7 FOUND ANOMALY (name,bloomberg,source) ('AAPL', 155.57, 161.06)\n",
      "8 FOUND ANOMALY (name,bloomberg,source) ('ABBV', 70.99, 72.02)\n",
      "Unable to read URL: http://www.google.com/finance/historical?q=ABT&startdate=Aug+09%2C+2017&enddate=Aug+10%2C+2017&output=csv\n",
      "9 FOUND ANOMALY (name,bloomberg,source) ('ABX', 17.06, 16.73)\n",
      "10 FOUND ANOMALY (name,bloomberg,source) ('ACHN', 3.9, 4.81)\n",
      "11 FOUND ANOMALY (name,bloomberg,source) ('ACIA', 45.22, 46.25)\n",
      "12 FOUND ANOMALY (name,bloomberg,source) ('ADSK', 107.88, 107.45)\n",
      "Unable to read URL: http://www.google.com/finance/historical?q=AGN&startdate=Aug+09%2C+2017&enddate=Aug+10%2C+2017&output=csv\n",
      "13 FOUND ANOMALY (name,bloomberg,source) ('ALB', 118.8, 113.16)\n",
      "14 FOUND ANOMALY (name,bloomberg,source) ('AMD', 13.24, 12.83)\n",
      "15 FOUND ANOMALY (name,bloomberg,source) ('AMGN', 174.18, 173.55)\n",
      "16 FOUND ANOMALY (name,bloomberg,source) ('AMZN', 986.92, 982.01)\n",
      "17 FOUND ANOMALY (name,bloomberg,source) ('APC', 43.77, 44.1)\n",
      "18 FOUND ANOMALY (name,bloomberg,source) ('AXP', 85.54, 85.69)\n",
      "19 FOUND ANOMALY (name,bloomberg,source) ('BABA', 153.32, 157.49)\n",
      "20 FOUND ANOMALY (name,bloomberg,source) ('BAC', 24.37, 24.74)\n",
      "21 FOUND ANOMALY (name,bloomberg,source) ('BDX', 198.9, 197.84)\n",
      "22 FOUND ANOMALY (name,bloomberg,source) ('BMY', 55.5, 57.4)\n",
      "23 FOUND ANOMALY (name,bloomberg,source) ('BRK/B', 178.99, 178.06)\n",
      "24 FOUND ANOMALY (name,bloomberg,source) ('BSMX', 10.49, 10.41)\n",
      "25 FOUND ANOMALY (name,bloomberg,source) ('BWA', 45.88, 46.53)\n",
      "26 FOUND ANOMALY (name,bloomberg,source) ('C', 68.13, 68.43)\n",
      "27 FOUND ANOMALY (name,bloomberg,source) ('CAT', 113.56, 114.34)\n",
      "28 FOUND ANOMALY (name,bloomberg,source) ('CBOE', 94.99, 96.8)\n",
      "29 FOUND ANOMALY (name,bloomberg,source) ('CBS/A', 65.53, 65.85)\n",
      "30 FOUND ANOMALY (name,bloomberg,source) ('CC', 47.15, 46.27)\n",
      "31 FOUND ANOMALY (name,bloomberg,source) ('CCI', 100.92, 100.77)\n",
      "32 FOUND ANOMALY (name,bloomberg,source) ('CCJ', 10.11, 10.15)\n",
      "33 FOUND ANOMALY (name,bloomberg,source) ('CCU', 26.21, 26.29)\n",
      "34 FOUND ANOMALY (name,bloomberg,source) ('CELG', 135.9, 135.57)\n",
      "35 FOUND ANOMALY (name,bloomberg,source) ('CEMP', 3.85, 3.65)\n",
      "36 FOUND ANOMALY (name,bloomberg,source) ('CL', 71.6, 71.57)\n",
      "37 FOUND ANOMALY (name,bloomberg,source) ('CMCSA', 39.7, 40.63)\n",
      "38 FOUND ANOMALY (name,bloomberg,source) ('CMG', 345.36, 334.61)\n",
      "39 FOUND ANOMALY (name,bloomberg,source) ('CNC', 83.19, 82.73)\n",
      "40 FOUND ANOMALY (name,bloomberg,source) ('COP', 44.91, 45.65)\n",
      "41 FOUND ANOMALY (name,bloomberg,source) ('COR', 109.06, 106.27)\n",
      "42 FOUND ANOMALY (name,bloomberg,source) ('CPB', 53.01, 53.21)\n",
      "43 FOUND ANOMALY (name,bloomberg,source) ('CRM', 90.35, 90.12)\n",
      "44 FOUND ANOMALY (name,bloomberg,source) ('CSCO', 31.56, 31.62)\n",
      "45 FOUND ANOMALY (name,bloomberg,source) ('CSIQ', 16.61, 17.21)\n",
      "46 FOUND ANOMALY (name,bloomberg,source) ('CVX', 109.43, 110.89)\n",
      " | dowloaded [ 81.33 ] from  google , regular [ 81.33 ] on:  DD\n",
      "47 FOUND ANOMALY (name,bloomberg,source) ('DDD', 13.39, 12.83)\n",
      "48 FOUND ANOMALY (name,bloomberg,source) ('DE', 129.51, 132.41)\n",
      "49 FOUND ANOMALY (name,bloomberg,source) ('DHR', 81.28, 80.23)\n",
      "Unable to read URL: http://www.google.com/finance/historical?q=DIS&startdate=Aug+09%2C+2017&enddate=Aug+10%2C+2017&output=csv\n",
      "50 FOUND ANOMALY (name,bloomberg,source) ('DLTR', 73.53, 74.92)\n",
      "51 FOUND ANOMALY (name,bloomberg,source) ('DVA', 58.5, 56.52)\n",
      "52 FOUND ANOMALY (name,bloomberg,source) ('EBAY', 35.71, 36.08)\n",
      "53 FOUND ANOMALY (name,bloomberg,source) ('ECL', 132.62, 132.36)\n",
      "54 FOUND ANOMALY (name,bloomberg,source) ('EGRX', 47.4, 49.15)\n",
      "55 FOUND ANOMALY (name,bloomberg,source) ('EMR', 60.68, 60.03)\n",
      "56 FOUND ANOMALY (name,bloomberg,source) ('ENDP', 9.91, 7.94)\n",
      "57 FOUND ANOMALY (name,bloomberg,source) ('EPD', 26.84, 26.26)\n",
      "58 FOUND ANOMALY (name,bloomberg,source) ('ESV', 5.54, 4.56)\n",
      "59 FOUND ANOMALY (name,bloomberg,source) ('EW', 116.45, 116.26)\n",
      "Unable to read URL: http://www.google.com/finance/historical?q=F&startdate=Aug+09%2C+2017&enddate=Aug+10%2C+2017&output=csv\n",
      "60 FOUND ANOMALY (name,bloomberg,source) ('FB', 168.59, 171.18)\n",
      "61 FOUND ANOMALY (name,bloomberg,source) ('FCX', 14.37, 14.59)\n",
      "62 FOUND ANOMALY (name,bloomberg,source) ('FISV', 123.97, 123.3)\n",
      "63 FOUND ANOMALY (name,bloomberg,source) ('FN', 42.99, 42.36)\n",
      "64 FOUND ANOMALY (name,bloomberg,source) ('GALE', 0.551, 0.38)\n",
      "65 FOUND ANOMALY (name,bloomberg,source) ('GDX', 22.7, 22.6)\n",
      "66 FOUND ANOMALY (name,bloomberg,source) ('GDXJ', 33.1, 32.82)\n",
      "Unable to read URL: http://www.google.com/finance/historical?q=GE&startdate=Aug+09%2C+2017&enddate=Aug+10%2C+2017&output=csv\n",
      "67 FOUND ANOMALY (name,bloomberg,source) ('GG', 12.81, 12.72)\n",
      "68 FOUND ANOMALY (name,bloomberg,source) ('GILD', 74.37, 73.9)\n",
      "69 FOUND ANOMALY (name,bloomberg,source) ('GIS', 56.22, 55.77)\n",
      "70 FOUND ANOMALY (name,bloomberg,source) ('GM', 34.77, 35.28)\n",
      "71 FOUND ANOMALY (name,bloomberg,source) ('GOOG', 923.65, 922.9)\n",
      "72 FOUND ANOMALY (name,bloomberg,source) ('GOOGL', 940.3, 940.08)\n",
      "73 FOUND ANOMALY (name,bloomberg,source) ('GPRO', 8.26, 10.16)\n",
      "74 FOUND ANOMALY (name,bloomberg,source) ('GRPN', 4.26, 3.96)\n",
      "75 FOUND ANOMALY (name,bloomberg,source) ('HAL', 42.03, 41.29)\n",
      "76 FOUND ANOMALY (name,bloomberg,source) ('HD', 150.79, 155.26)\n",
      "77 FOUND ANOMALY (name,bloomberg,source) ('HGV', 36.84, 34.93)\n",
      "78 FOUND ANOMALY (name,bloomberg,source) ('HIBB', 15.15, 14.2)\n",
      "79 FOUND ANOMALY (name,bloomberg,source) ('HL', 5.09, 5.03)\n",
      "80 FOUND ANOMALY (name,bloomberg,source) ('HLT', 62.13, 61.37)\n",
      "Unable to read URL: http://www.google.com/finance/historical?q=HNUZF&startdate=Aug+09%2C+2017&enddate=Aug+10%2C+2017&output=csv\n",
      "81 FOUND ANOMALY (name,bloomberg,source) ('HON', 139.56, 139.0)\n",
      "82 FOUND ANOMALY (name,bloomberg,source) ('HQY', 46.51, 47.48)\n",
      "83 FOUND ANOMALY (name,bloomberg,source) ('HUM', 248.84, 254.96)\n",
      "Unable to read URL: http://www.google.com/finance/historical?q=HYSR&startdate=Aug+09%2C+2017&enddate=Aug+10%2C+2017&output=csv\n",
      "84 FOUND ANOMALY (name,bloomberg,source) ('IAG', 5.44, 5.28)\n",
      "85 FOUND ANOMALY (name,bloomberg,source) ('IBKR', 40.69, 40.65)\n",
      "86 FOUND ANOMALY (name,bloomberg,source) ('IBM', 144.94, 141.77)\n",
      "87 FOUND ANOMALY (name,bloomberg,source) ('ILMN', 198.46, 199.23)\n",
      "88 FOUND ANOMALY (name,bloomberg,source) ('INTC', 36.49, 36.59)\n",
      "89 FOUND ANOMALY (name,bloomberg,source) ('IPG', 21.83, 21.14)\n",
      "90 FOUND ANOMALY (name,bloomberg,source) ('ISRG', 934.16, 943.45)\n",
      "91 FOUND ANOMALY (name,bloomberg,source) ('JCP', 5.43, 5.16)\n",
      "92 FOUND ANOMALY (name,bloomberg,source) ('JKS', 27.17, 28.52)\n",
      "93 FOUND ANOMALY (name,bloomberg,source) ('JNJ', 133.35, 133.23)\n",
      "94 FOUND ANOMALY (name,bloomberg,source) ('JPM', 92.5, 93.53)\n",
      "95 FOUND ANOMALY (name,bloomberg,source) ('KGC', 4.32, 4.19)\n",
      "96 FOUND ANOMALY (name,bloomberg,source) ('KHC', 86.51, 86.46)\n",
      "97 FOUND ANOMALY (name,bloomberg,source) ('KIM', 19.93, 20.5)\n",
      "98 FOUND ANOMALY (name,bloomberg,source) ('KO', 45.67, 45.59)\n",
      "99 FOUND ANOMALY (name,bloomberg,source) ('KOF', 82.34, 82.14)\n",
      "100 FOUND ANOMALY (name,bloomberg,source) ('LC', 5.09, 6.08)\n",
      "101 FOUND ANOMALY (name,bloomberg,source) ('LEN', 53.87, 54.16)\n",
      "Unable to read URL: http://www.google.com/finance/historical?q=LGLBF&startdate=Aug+09%2C+2017&enddate=Aug+10%2C+2017&output=csv\n",
      "102 FOUND ANOMALY (name,bloomberg,source) ('LIVN', 60.32, 64.09)\n",
      "103 FOUND ANOMALY (name,bloomberg,source) ('LLY', 81.93, 82.57)\n",
      "104 FOUND ANOMALY (name,bloomberg,source) ('LNG', 44.72, 43.0)\n",
      "105 FOUND ANOMALY (name,bloomberg,source) ('LXRX', 15.5, 14.9)\n",
      "106 FOUND ANOMALY (name,bloomberg,source) ('MA', 129.89, 129.72)\n",
      "107 FOUND ANOMALY (name,bloomberg,source) ('MAR', 103.66, 101.35)\n",
      "108 FOUND ANOMALY (name,bloomberg,source) ('MBII', 1.17, 1.18)\n",
      "109 FOUND ANOMALY (name,bloomberg,source) ('MBOT', 1.18, 1.13)\n",
      "110 FOUND ANOMALY (name,bloomberg,source) ('MBVX', 0.77, 0.64)\n",
      "111 FOUND ANOMALY (name,bloomberg,source) ('MCD', 154.72, 154.92)\n",
      "Unable to read URL: http://www.google.com/finance/historical?q=MCIG&startdate=Aug+09%2C+2017&enddate=Aug+10%2C+2017&output=csv\n"
     ]
    },
    {
     "name": "stdout",
     "output_type": "stream",
     "text": [
      "112 FOUND ANOMALY (name,bloomberg,source) ('MD', 44.37, 42.71)\n",
      "Unable to read URL: http://www.google.com/finance/historical?q=MDIT&startdate=Aug+09%2C+2017&enddate=Aug+10%2C+2017&output=csv\n"
     ]
    }
   ],
   "source": [
    "try:\n",
    "    equities_US, equities_IM = parse_equities(FNAME,int(FIXED_LINES))\n",
    "except:\n",
    "    logging.exception(datetime.datetime.now())\n",
    "    \n",
    "    \n",
    "if(MARKET=='EQUITIES US'):\n",
    "    \n",
    "    try:\n",
    "        anomalies, comparisons, dataset = pricker_equities(equities_US)\n",
    "    except:\n",
    "        logging.exception(datetime.datetime.now())\n",
    "    \n",
    "if(MARKET=='EQUITIES IM'):\n",
    "    print '..not implemented yet'"
   ]
  },
  {
   "cell_type": "code",
   "execution_count": 5,
   "metadata": {
    "collapsed": true
   },
   "outputs": [],
   "source": [
    "try:\n",
    "    equities_US, equities_IM = parse_equities(FNAME,int(FIXED_LINES))\n",
    "    \n",
    "    if(MARKET=='EQUITIES US'):        \n",
    "        anomalies, comparisons, dataset = pricker_equities(equities_US)\n",
    "    if(MARKET=='EQUITIES IM'):\n",
    "        print '..not implemented yet'\n",
    "\n",
    "    update_html(anomalies,comparisons,dataset,FILENAME_INPUT,FILENAME_OUTPUT)\n",
    "    \n",
    "except:\n",
    "    logging.exception(datetime.datetime.now())"
   ]
  },
  {
   "cell_type": "code",
   "execution_count": 12,
   "metadata": {},
   "outputs": [
    {
     "data": {
      "text/plain": [
       "[('BTI', 65.19, 64.48),\n",
       " ('DRYS', 1.23, 1.77),\n",
       " ('NEM', 36.59, 36.1),\n",
       " ('CLR', 32.19, 34.31),\n",
       " ('AZN', 30.34, 29.47),\n",
       " ('GOLD', 95.1, 95.59),\n",
       " ('AAPL', 155.57, 161.06),\n",
       " ('ABBV', 70.99, 72.02),\n",
       " ('ABX', 17.06, 16.73),\n",
       " ('ACHN', 3.9, 4.81),\n",
       " ('ACIA', 45.22, 46.25),\n",
       " ('ADSK', 107.88, 107.45),\n",
       " ('ALB', 118.8, 113.16),\n",
       " ('AMD', 13.24, 12.83),\n",
       " ('AMGN', 174.18, 173.55),\n",
       " ('AMZN', 986.92, 982.01),\n",
       " ('APC', 43.77, 44.1),\n",
       " ('AXP', 85.54, 85.69),\n",
       " ('BABA', 153.32, 157.49),\n",
       " ('BAC', 24.37, 24.74),\n",
       " ('BDX', 198.9, 197.84),\n",
       " ('BMY', 55.5, 57.4),\n",
       " ('BRK/B', 178.99, 178.06),\n",
       " ('BSMX', 10.49, 10.41),\n",
       " ('BWA', 45.88, 46.53),\n",
       " ('C', 68.13, 68.43),\n",
       " ('CAT', 113.56, 114.34),\n",
       " ('CBOE', 94.99, 96.8),\n",
       " ('CBS/A', 65.53, 65.85),\n",
       " ('CC', 47.15, 46.27),\n",
       " ('CCI', 100.92, 100.77),\n",
       " ('CCJ', 10.11, 10.15),\n",
       " ('CCU', 26.21, 26.29),\n",
       " ('CELG', 135.9, 135.57),\n",
       " ('CEMP', 3.85, 3.65),\n",
       " ('CL', 71.6, 71.57),\n",
       " ('CMCSA', 39.7, 40.63),\n",
       " ('CMG', 345.36, 334.61),\n",
       " ('CNC', 83.19, 82.73),\n",
       " ('COP', 44.91, 45.65),\n",
       " ('COR', 109.06, 106.27),\n",
       " ('CPB', 53.01, 53.21),\n",
       " ('CRM', 90.35, 90.12),\n",
       " ('CSCO', 31.56, 31.62),\n",
       " ('CSIQ', 16.61, 17.21),\n",
       " ('CVX', 109.43, 110.89),\n",
       " ('DDD', 13.39, 12.83),\n",
       " ('DE', 129.51, 132.41),\n",
       " ('DHR', 81.28, 80.23),\n",
       " ('DLTR', 73.53, 74.92),\n",
       " ('DVA', 58.5, 56.52),\n",
       " ('EBAY', 35.71, 36.08),\n",
       " ('ECL', 132.62, 132.36),\n",
       " ('EGRX', 47.4, 49.15),\n",
       " ('EMR', 60.68, 60.03),\n",
       " ('ENDP', 9.91, 7.94),\n",
       " ('EPD', 26.84, 26.26),\n",
       " ('ESV', 5.54, 4.56),\n",
       " ('EW', 116.45, 116.26),\n",
       " ('FB', 168.59, 171.18),\n",
       " ('FCX', 14.37, 14.59),\n",
       " ('FISV', 123.97, 123.3),\n",
       " ('FN', 42.99, 42.36),\n",
       " ('GALE', 0.551, 0.38),\n",
       " ('GDX', 22.7, 22.6),\n",
       " ('GDXJ', 33.1, 32.82),\n",
       " ('GG', 12.81, 12.72),\n",
       " ('GILD', 74.37, 73.9),\n",
       " ('GIS', 56.22, 55.77),\n",
       " ('GM', 34.77, 35.28),\n",
       " ('GOOG', 923.65, 922.9),\n",
       " ('GOOGL', 940.3, 940.08),\n",
       " ('GPRO', 8.26, 10.16),\n",
       " ('GRPN', 4.26, 3.96),\n",
       " ('HAL', 42.03, 41.29),\n",
       " ('HD', 150.79, 155.26),\n",
       " ('HGV', 36.84, 34.93),\n",
       " ('HIBB', 15.15, 14.2),\n",
       " ('HL', 5.09, 5.03),\n",
       " ('HLT', 62.13, 61.37),\n",
       " ('HON', 139.56, 139.0),\n",
       " ('HQY', 46.51, 47.48),\n",
       " ('HUM', 248.84, 254.96),\n",
       " ('IAG', 5.44, 5.28),\n",
       " ('IBKR', 40.69, 40.65),\n",
       " ('IBM', 144.94, 141.77),\n",
       " ('ILMN', 198.46, 199.23),\n",
       " ('INTC', 36.49, 36.59),\n",
       " ('IPG', 21.83, 21.14),\n",
       " ('ISRG', 934.16, 943.45),\n",
       " ('JCP', 5.43, 5.16),\n",
       " ('JKS', 27.17, 28.52),\n",
       " ('JNJ', 133.35, 133.23),\n",
       " ('JPM', 92.5, 93.53),\n",
       " ('KGC', 4.32, 4.19),\n",
       " ('KHC', 86.51, 86.46),\n",
       " ('KIM', 19.93, 20.5),\n",
       " ('KO', 45.67, 45.59),\n",
       " ('KOF', 82.34, 82.14),\n",
       " ('LC', 5.09, 6.08),\n",
       " ('LEN', 53.87, 54.16),\n",
       " ('LIVN', 60.32, 64.09),\n",
       " ('LLY', 81.93, 82.57),\n",
       " ('LNG', 44.72, 43.0),\n",
       " ('LXRX', 15.5, 14.9),\n",
       " ('MA', 129.89, 129.72),\n",
       " ('MAR', 103.66, 101.35),\n",
       " ('MBII', 1.17, 1.18),\n",
       " ('MBOT', 1.18, 1.13),\n",
       " ('MBVX', 0.77, 0.64),\n",
       " ('MCD', 154.72, 154.92),\n",
       " ('MD', 44.37, 42.71),\n",
       " ('MDLZ', 43.41, 43.47),\n",
       " ('MO', 65.54, 65.31),\n",
       " ('MRK', 63.52, 62.49),\n",
       " ('MSFT', 72.15, 72.47),\n",
       " ('NFLX', 179.23, 175.78),\n",
       " ('NKE', 60.14, 59.9),\n",
       " ('NOC', 268.78, 273.1),\n",
       " ('NVAX', 0.9686, 0.99),\n",
       " ('NVDA', 166.48, 172.11),\n",
       " ('OCLR', 9.49, 8.69),\n",
       " ('ONVO', 2.14, 2.08),\n",
       " ('ORCL', 50.23, 49.06),\n",
       " ('PAA', 25.61, 21.01),\n",
       " ('PCLN', 2027.98, 1906.8),\n",
       " ('PEP', 116.3, 116.63),\n",
       " ('PFE', 33.43, 33.45),\n",
       " ('PG', 90.86, 91.92),\n",
       " ('PK', 26.01, 26.03),\n",
       " ('PLUG', 2.25, 2.14),\n",
       " ('PM', 114.49, 115.41),\n",
       " ('PPG', 104.67, 103.37),\n",
       " ('PRU', 110.27, 109.94),\n",
       " ('PSEC', 8.1, 8.12),\n",
       " ('PSX', 85.65, 84.49),\n",
       " ('PX', 130.32, 128.86),\n",
       " ('PYPL', 58.42, 59.67),\n",
       " ('QCOM', 52.95, 52.77),\n",
       " ('RACE', 108.34, 111.26),\n",
       " ('RGLD', 86.71, 84.94),\n",
       " ('RIO', 46.18, 46.16),\n",
       " ('RL', 76.05, 87.05),\n",
       " ('RUSL', 38.71, 40.29),\n",
       " ('SALT', 7.35, 7.3),\n",
       " ('SBUX', 55.68, 53.74),\n",
       " ('SHPG', 161.58, 153.87),\n",
       " ('SLB', 68.22, 65.49),\n",
       " ('SNAP', 12.93, 13.56),\n",
       " ('SNE', 40.2, 40.02),\n",
       " ('SQM', 42.01, 42.21),\n",
       " ('SRCL', 82.76, 75.06),\n",
       " ('SRNE', 1.7, 1.75),\n",
       " ('SSYS', 23.25, 22.29),\n",
       " ('STNG', 3.56, 3.55),\n",
       " ('STON', 6.61, 6.35),\n",
       " ('SYK', 146.37, 145.18),\n",
       " ('T', 38.28, 38.36),\n",
       " ('TEVA', 23.75, 17.5),\n",
       " ('THC', 16.9, 13.53),\n",
       " ('TIF', 92.85, 91.24),\n",
       " ('TNP', 4.75, 4.66),\n",
       " ('TSLA', 347.09, 363.53),\n",
       " ('TSRO', 124.56, 116.18),\n",
       " ('TTT', 25.94, 26.35),\n",
       " ('TWTR', 16.18, 16.14),\n",
       " ('TXT', 49.04, 49.13),\n",
       " ('UNP', 102.55, 103.77),\n",
       " ('URI', 116.31, 115.31),\n",
       " ('V', 100.59, 100.97),\n",
       " ('VIA', 41.2, 37.15),\n",
       " ('VMC', 120.15, 117.88),\n",
       " ('VRX', 15.45, 14.07),\n",
       " ('VVV', 22.33, 22.32),\n",
       " ('VZ', 48.61, 48.22),\n",
       " ('WFC', 53.4, 52.79),\n",
       " ('WLL', 5.0, 4.8),\n",
       " ('WMT', 80.87, 81.61),\n",
       " ('WPM', 19.92, 19.87),\n",
       " ('WY', 32.86, 32.43),\n",
       " ('XOM', 80.49, 80.21),\n",
       " ('YNDX', 29.16, 30.69)]"
      ]
     },
     "execution_count": 12,
     "metadata": {},
     "output_type": "execute_result"
    }
   ],
   "source": [
    "anomalies"
   ]
  },
  {
   "cell_type": "markdown",
   "metadata": {},
   "source": [
    "<h1>SANDBOX ---</h1>"
   ]
  },
  {
   "cell_type": "code",
   "execution_count": 13,
   "metadata": {},
   "outputs": [
    {
     "ename": "IOError",
     "evalue": "[Errno 2] No such file or directory: ''",
     "output_type": "error",
     "traceback": [
      "\u001b[0;31m---------------------------------------------------------------------------\u001b[0m",
      "\u001b[0;31mIOError\u001b[0m                                   Traceback (most recent call last)",
      "\u001b[0;32m<ipython-input-13-f754f2c07dbd>\u001b[0m in \u001b[0;36m<module>\u001b[0;34m()\u001b[0m\n\u001b[1;32m      1\u001b[0m \u001b[0mFILENAME_INPUT\u001b[0m\u001b[0;34m=\u001b[0m\u001b[0;34m\"\"\u001b[0m\u001b[0;34m\u001b[0m\u001b[0m\n\u001b[0;32m----> 2\u001b[0;31m \u001b[0;32mwith\u001b[0m \u001b[0mopen\u001b[0m\u001b[0;34m(\u001b[0m\u001b[0mFILENAME_INPUT\u001b[0m\u001b[0;34m)\u001b[0m \u001b[0;32mas\u001b[0m \u001b[0mfp\u001b[0m\u001b[0;34m:\u001b[0m\u001b[0;34m\u001b[0m\u001b[0m\n\u001b[0m\u001b[1;32m      3\u001b[0m     \u001b[0msoup\u001b[0m \u001b[0;34m=\u001b[0m \u001b[0mBeautifulSoup\u001b[0m\u001b[0;34m(\u001b[0m\u001b[0mfp\u001b[0m\u001b[0;34m,\u001b[0m \u001b[0;34m\"html5lib\"\u001b[0m\u001b[0;34m)\u001b[0m\u001b[0;34m\u001b[0m\u001b[0m\n",
      "\u001b[0;31mIOError\u001b[0m: [Errno 2] No such file or directory: ''"
     ]
    }
   ],
   "source": [
    "FILENAME_INPUT=\"\"\n",
    "with open(FILENAME_INPUT) as fp:\n",
    "    soup = BeautifulSoup(fp, \"html5lib\")"
   ]
  },
  {
   "cell_type": "code",
   "execution_count": null,
   "metadata": {
    "collapsed": true
   },
   "outputs": [],
   "source": [
    "with open(\"www/output.html\") as fp:\n",
    "    soup = BeautifulSoup(fp, \"html5lib\")"
   ]
  },
  {
   "cell_type": "code",
   "execution_count": null,
   "metadata": {
    "collapsed": true
   },
   "outputs": [],
   "source": [
    "\n",
    "soup.find_all('span')[0].string = \"regular: \"+str(123)\n",
    "\n",
    "soup.find_all('span')[0].string"
   ]
  },
  {
   "cell_type": "code",
   "execution_count": null,
   "metadata": {
    "collapsed": true
   },
   "outputs": [],
   "source": [
    "new_tag = soup.new_tag('li')\n",
    "\n",
    "a = soup.new_tag('a')\n",
    "a_content = anomaly[0]+' '\n",
    "a.string=unicode(string_content)\n",
    "\n",
    "p = soup.new_tag('p')\n",
    "p_content = 'Bloomberg:'+str(anomaly[1])+' Google: '+str(anomaly[2])\n",
    "p['style']=\"font-size:9px\"\n",
    "p.string=unicode(p_content)\n",
    "a.insert(1,p)\n",
    "\n",
    "\n",
    "\n",
    "\n",
    "new_tag.append(a)\n",
    "     "
   ]
  },
  {
   "cell_type": "code",
   "execution_count": null,
   "metadata": {
    "collapsed": true
   },
   "outputs": [],
   "source": [
    "new_tag"
   ]
  },
  {
   "cell_type": "code",
   "execution_count": null,
   "metadata": {
    "collapsed": true
   },
   "outputs": [],
   "source": [
    "a"
   ]
  },
  {
   "cell_type": "code",
   "execution_count": null,
   "metadata": {
    "collapsed": true
   },
   "outputs": [],
   "source": [
    "\n",
    "soup.find_all('a')[1].string = \"Instruments found from the source \"+str(comparisons)+\"/\"+str(dataset)"
   ]
  },
  {
   "cell_type": "code",
   "execution_count": null,
   "metadata": {},
   "outputs": [],
   "source": [
    "soup.find_all('a')[1]"
   ]
  },
  {
   "cell_type": "code",
   "execution_count": null,
   "metadata": {
    "collapsed": true
   },
   "outputs": [],
   "source": []
  },
  {
   "cell_type": "code",
   "execution_count": null,
   "metadata": {
    "collapsed": true
   },
   "outputs": [],
   "source": [
    "update_html()"
   ]
  },
  {
   "cell_type": "code",
   "execution_count": null,
   "metadata": {
    "collapsed": true
   },
   "outputs": [],
   "source": [
    "soup.body.find_all('div')[1]"
   ]
  },
  {
   "cell_type": "code",
   "execution_count": null,
   "metadata": {
    "collapsed": true
   },
   "outputs": [],
   "source": [
    "soup.body.find('ul')"
   ]
  },
  {
   "cell_type": "code",
   "execution_count": null,
   "metadata": {
    "collapsed": true
   },
   "outputs": [],
   "source": [
    "string = \"PX US Equity|0|10|08/02/2017||0.850000|1.200000||1.200000|1.200000|0.850000|USD|\""
   ]
  },
  {
   "cell_type": "code",
   "execution_count": null,
   "metadata": {
    "collapsed": true
   },
   "outputs": [],
   "source": [
    "len(string.split(\" \"))"
   ]
  },
  {
   "cell_type": "code",
   "execution_count": null,
   "metadata": {
    "collapsed": true
   },
   "outputs": [],
   "source": [
    "def caa():\n",
    "    a = 123,122,22\n",
    "    b =2\n",
    "    return a,b"
   ]
  },
  {
   "cell_type": "code",
   "execution_count": null,
   "metadata": {
    "collapsed": true
   },
   "outputs": [],
   "source": [
    "a,b = caa()"
   ]
  },
  {
   "cell_type": "code",
   "execution_count": null,
   "metadata": {},
   "outputs": [],
   "source": [
    "a"
   ]
  },
  {
   "cell_type": "code",
   "execution_count": null,
   "metadata": {},
   "outputs": [],
   "source": [
    "Prezzi040817.out20170804"
   ]
  },
  {
   "cell_type": "code",
   "execution_count": null,
   "metadata": {},
   "outputs": [],
   "source": [
    "\n",
    "datetime.datetime.year.today"
   ]
  },
  {
   "cell_type": "code",
   "execution_count": null,
   "metadata": {},
   "outputs": [],
   "source": []
  },
  {
   "cell_type": "code",
   "execution_count": null,
   "metadata": {
    "collapsed": true
   },
   "outputs": [],
   "source": []
  }
 ],
 "metadata": {
  "kernelspec": {
   "display_name": "Python 2",
   "language": "python",
   "name": "python2"
  },
  "language_info": {
   "codemirror_mode": {
    "name": "ipython",
    "version": 2
   },
   "file_extension": ".py",
   "mimetype": "text/x-python",
   "name": "python",
   "nbconvert_exporter": "python",
   "pygments_lexer": "ipython2",
   "version": "2.7.10"
  }
 },
 "nbformat": 4,
 "nbformat_minor": 2
}
